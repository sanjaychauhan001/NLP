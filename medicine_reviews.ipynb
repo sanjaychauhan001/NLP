{
 "cells": [
  {
   "cell_type": "code",
   "execution_count": 1,
   "metadata": {},
   "outputs": [],
   "source": [
    "import pandas as pd\n",
    "import requests as r\n",
    "from bs4 import BeautifulSoup"
   ]
  },
  {
   "cell_type": "code",
   "execution_count": 27,
   "metadata": {},
   "outputs": [],
   "source": [
    "# url\n",
    "url = \"https://www.drugs.com/comments/morphine/?page=1\"\n",
    "# response \n",
    "response = r.get(url)\n",
    "# geting html codes in soup variables\n",
    "soup = BeautifulSoup(response.content, 'html.parser')"
   ]
  },
  {
   "cell_type": "code",
   "execution_count": 39,
   "metadata": {},
   "outputs": [],
   "source": [
    "# a list to store reviews\n",
    "reviews = []\n",
    "# loop since there are 5 page\n",
    "for i in range(1,6):\n",
    "    # url will change as i change\n",
    "    url = f\"https://www.drugs.com/comments/morphine/?page={i}\"\n",
    "    response = r.get(url)\n",
    "    soup = BeautifulSoup(response.content, 'html.parser')\n",
    "    # extracting reviews and aapendin in list\n",
    "    for i in soup.find_all('div',class_='ddc-comment ddc-box ddc-mgb-2'):\n",
    "        reviews.append(i.find('p').get_text(strip=True))"
   ]
  },
  {
   "cell_type": "code",
   "execution_count": 29,
   "metadata": {},
   "outputs": [
    {
     "data": {
      "text/plain": [
       "'MS Contin (morphine) for Chronic Pain\"Am 50 yrs old in the last 10 years I\\'ve had 8 surgeries. I had venus stasis disease on both legs 2 years in total hospitalized and rehab for movement was in a wheelchair for 1 year after was so bad last surgery doctor team told my wife at the time that I have an 80% chance of never walking again.  I  made it through on oxycodone 90mg IR every 6hrs around the clock, it basically got me into trouble.  Long story short I quit the oxy went to pain patch fentanyl..umm  that doctor stopped it and took me off no warning.  So found my old doctor he put me on the 30mg MS contin I take 1 every 10 hrs ..I know some on here say it doesn\\'t work but I would not be able to do anything without it.  It has made what life I do have more worth living ..I thank God for my doctor and God for letting be able to walk again!!\"'"
      ]
     },
     "execution_count": 29,
     "metadata": {},
     "output_type": "execute_result"
    }
   ],
   "source": [
    "soup.find_all('div',class_='ddc-comment ddc-box ddc-mgb-2')[0].find('p').get_text(strip=True)"
   ]
  },
  {
   "cell_type": "code",
   "execution_count": 66,
   "metadata": {},
   "outputs": [],
   "source": [
    "# a list to store reviews\n",
    "reviews = []\n",
    "# loop since there are 5 page\n",
    "for i in range(1,6):\n",
    "    # url will change as i change\n",
    "    url = f\"https://www.drugs.com/comments/morphine/?search=&sort_reviews=lowest_rating&page={i}\"\n",
    "    response = r.get(url)\n",
    "    soup = BeautifulSoup(response.content, 'html.parser')\n",
    "    # extracting reviews and aapendin in list\n",
    "    for i in soup.find_all('div',class_='ddc-comment ddc-box ddc-mgb-2'):\n",
    "        reviews.append(i.find('p').get_text(strip=True))"
   ]
  },
  {
   "cell_type": "code",
   "execution_count": 67,
   "metadata": {},
   "outputs": [
    {
     "data": {
      "text/html": [
       "<div>\n",
       "<style scoped>\n",
       "    .dataframe tbody tr th:only-of-type {\n",
       "        vertical-align: middle;\n",
       "    }\n",
       "\n",
       "    .dataframe tbody tr th {\n",
       "        vertical-align: top;\n",
       "    }\n",
       "\n",
       "    .dataframe thead th {\n",
       "        text-align: right;\n",
       "    }\n",
       "</style>\n",
       "<table border=\"1\" class=\"dataframe\">\n",
       "  <thead>\n",
       "    <tr style=\"text-align: right;\">\n",
       "      <th></th>\n",
       "      <th>reviews</th>\n",
       "    </tr>\n",
       "  </thead>\n",
       "  <tbody>\n",
       "    <tr>\n",
       "      <th>0</th>\n",
       "      <td>Morphine Sulfate ER (morphine) for Chronic Pai...</td>\n",
       "    </tr>\n",
       "    <tr>\n",
       "      <th>1</th>\n",
       "      <td>Morphine Sulfate ER (morphine) for Pain\"This m...</td>\n",
       "    </tr>\n",
       "    <tr>\n",
       "      <th>2</th>\n",
       "      <td>Morphine Sulfate ER (morphine) for Chronic Pai...</td>\n",
       "    </tr>\n",
       "    <tr>\n",
       "      <th>3</th>\n",
       "      <td>For Chronic Pain\"I apologise,  I can't remembe...</td>\n",
       "    </tr>\n",
       "    <tr>\n",
       "      <th>4</th>\n",
       "      <td>For Chronic Pain\"Great for severe chronic pain...</td>\n",
       "    </tr>\n",
       "    <tr>\n",
       "      <th>...</th>\n",
       "      <td>...</td>\n",
       "    </tr>\n",
       "    <tr>\n",
       "      <th>120</th>\n",
       "      <td>For Chronic Pain\"I have had 20 years of pain, ...</td>\n",
       "    </tr>\n",
       "    <tr>\n",
       "      <th>121</th>\n",
       "      <td>Oramorph SR (morphine) for Chronic Pain\"I have...</td>\n",
       "    </tr>\n",
       "    <tr>\n",
       "      <th>122</th>\n",
       "      <td>Morphine Sulfate ER (morphine) for Chronic Pai...</td>\n",
       "    </tr>\n",
       "    <tr>\n",
       "      <th>123</th>\n",
       "      <td>Morphine Sulfate ER (morphine) for Chronic Pai...</td>\n",
       "    </tr>\n",
       "    <tr>\n",
       "      <th>124</th>\n",
       "      <td>For Chronic Pain\"Yo Fellow Pain Endurers ~\\r\\n...</td>\n",
       "    </tr>\n",
       "  </tbody>\n",
       "</table>\n",
       "<p>125 rows × 1 columns</p>\n",
       "</div>"
      ],
      "text/plain": [
       "                                               reviews\n",
       "0    Morphine Sulfate ER (morphine) for Chronic Pai...\n",
       "1    Morphine Sulfate ER (morphine) for Pain\"This m...\n",
       "2    Morphine Sulfate ER (morphine) for Chronic Pai...\n",
       "3    For Chronic Pain\"I apologise,  I can't remembe...\n",
       "4    For Chronic Pain\"Great for severe chronic pain...\n",
       "..                                                 ...\n",
       "120  For Chronic Pain\"I have had 20 years of pain, ...\n",
       "121  Oramorph SR (morphine) for Chronic Pain\"I have...\n",
       "122  Morphine Sulfate ER (morphine) for Chronic Pai...\n",
       "123  Morphine Sulfate ER (morphine) for Chronic Pai...\n",
       "124  For Chronic Pain\"Yo Fellow Pain Endurers ~\\r\\n...\n",
       "\n",
       "[125 rows x 1 columns]"
      ]
     },
     "execution_count": 67,
     "metadata": {},
     "output_type": "execute_result"
    }
   ],
   "source": [
    "df = pd.DataFrame({'reviews':reviews})\n",
    "df"
   ]
  },
  {
   "cell_type": "code",
   "execution_count": 58,
   "metadata": {},
   "outputs": [
    {
     "data": {
      "text/plain": [
       "0"
      ]
     },
     "execution_count": 58,
     "metadata": {},
     "output_type": "execute_result"
    }
   ],
   "source": [
    "df.duplicated().sum()"
   ]
  },
  {
   "cell_type": "code",
   "execution_count": 68,
   "metadata": {},
   "outputs": [],
   "source": [
    "df.to_csv('morphine5.csv',index=False)"
   ]
  },
  {
   "cell_type": "code",
   "execution_count": 69,
   "metadata": {},
   "outputs": [],
   "source": [
    "m = pd.read_csv('morphine.csv')\n",
    "m1 = pd.read_csv('morphine1.csv')\n",
    "m2 = pd.read_csv('morphine2.csv')\n",
    "m3 = pd.read_csv('morphine3.csv')\n",
    "m4 = pd.read_csv('morphine4.csv')\n",
    "m5 = pd.read_csv('morphine5.csv')"
   ]
  },
  {
   "cell_type": "code",
   "execution_count": 73,
   "metadata": {},
   "outputs": [],
   "source": [
    "new_df = pd.concat([m,m1,m2,m3,m4,m5])"
   ]
  },
  {
   "cell_type": "code",
   "execution_count": 75,
   "metadata": {},
   "outputs": [],
   "source": [
    "new_df.drop_duplicates(inplace=True)"
   ]
  },
  {
   "cell_type": "code",
   "execution_count": 77,
   "metadata": {},
   "outputs": [],
   "source": [
    "new_df.to_csv('morhine1.csv',index=False)"
   ]
  }
 ],
 "metadata": {
  "kernelspec": {
   "display_name": "Python 3",
   "language": "python",
   "name": "python3"
  },
  "language_info": {
   "codemirror_mode": {
    "name": "ipython",
    "version": 3
   },
   "file_extension": ".py",
   "mimetype": "text/x-python",
   "name": "python",
   "nbconvert_exporter": "python",
   "pygments_lexer": "ipython3",
   "version": "3.12.1"
  }
 },
 "nbformat": 4,
 "nbformat_minor": 2
}
