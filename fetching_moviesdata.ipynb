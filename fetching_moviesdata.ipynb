{
 "cells": [
  {
   "cell_type": "code",
   "execution_count": 1,
   "metadata": {},
   "outputs": [],
   "source": [
    "import pandas as pd\n",
    "import requests as r\n",
    "import json"
   ]
  },
  {
   "cell_type": "code",
   "execution_count": 22,
   "metadata": {},
   "outputs": [],
   "source": [
    "df = pd.DataFrame()\n",
    "for i in range(1,471):\n",
    "    url = f'https://api.themoviedb.org/3/movie/top_rated?api_key=8265bd1679663a7ea12ac168da84d2e8&language=en-US&page={i}'\n",
    "    response = r.get(url)\n",
    "    data = response.json()\n",
    "    temp_df = pd.json_normalize(data['results'])[['title','overview','genre_ids']]\n",
    "    df = pd.concat([df, temp_df], ignore_index=True)"
   ]
  },
  {
   "cell_type": "code",
   "execution_count": 23,
   "metadata": {},
   "outputs": [
    {
     "data": {
      "text/html": [
       "<div>\n",
       "<style scoped>\n",
       "    .dataframe tbody tr th:only-of-type {\n",
       "        vertical-align: middle;\n",
       "    }\n",
       "\n",
       "    .dataframe tbody tr th {\n",
       "        vertical-align: top;\n",
       "    }\n",
       "\n",
       "    .dataframe thead th {\n",
       "        text-align: right;\n",
       "    }\n",
       "</style>\n",
       "<table border=\"1\" class=\"dataframe\">\n",
       "  <thead>\n",
       "    <tr style=\"text-align: right;\">\n",
       "      <th></th>\n",
       "      <th>title</th>\n",
       "      <th>overview</th>\n",
       "      <th>genre_ids</th>\n",
       "    </tr>\n",
       "  </thead>\n",
       "  <tbody>\n",
       "    <tr>\n",
       "      <th>0</th>\n",
       "      <td>The Shawshank Redemption</td>\n",
       "      <td>Imprisoned in the 1940s for the double murder ...</td>\n",
       "      <td>[18, 80]</td>\n",
       "    </tr>\n",
       "    <tr>\n",
       "      <th>1</th>\n",
       "      <td>The Godfather</td>\n",
       "      <td>Spanning the years 1945 to 1955, a chronicle o...</td>\n",
       "      <td>[18, 80]</td>\n",
       "    </tr>\n",
       "    <tr>\n",
       "      <th>2</th>\n",
       "      <td>The Godfather Part II</td>\n",
       "      <td>In the continuing saga of the Corleone crime f...</td>\n",
       "      <td>[18, 80]</td>\n",
       "    </tr>\n",
       "    <tr>\n",
       "      <th>3</th>\n",
       "      <td>Schindler's List</td>\n",
       "      <td>The true story of how businessman Oskar Schind...</td>\n",
       "      <td>[18, 36, 10752]</td>\n",
       "    </tr>\n",
       "    <tr>\n",
       "      <th>4</th>\n",
       "      <td>12 Angry Men</td>\n",
       "      <td>The defense and the prosecution have rested an...</td>\n",
       "      <td>[18]</td>\n",
       "    </tr>\n",
       "    <tr>\n",
       "      <th>...</th>\n",
       "      <td>...</td>\n",
       "      <td>...</td>\n",
       "      <td>...</td>\n",
       "    </tr>\n",
       "    <tr>\n",
       "      <th>9378</th>\n",
       "      <td>Alone in the Dark</td>\n",
       "      <td>Edward Carnby is a private investigator specia...</td>\n",
       "      <td>[28, 14, 27]</td>\n",
       "    </tr>\n",
       "    <tr>\n",
       "      <th>9379</th>\n",
       "      <td>Disaster Movie</td>\n",
       "      <td>The filmmaking team behind the hits \"Scary Mov...</td>\n",
       "      <td>[35, 878]</td>\n",
       "    </tr>\n",
       "    <tr>\n",
       "      <th>9380</th>\n",
       "      <td>House of the Dead</td>\n",
       "      <td>Set on an island off the coast, a techno rave ...</td>\n",
       "      <td>[27, 28, 53]</td>\n",
       "    </tr>\n",
       "    <tr>\n",
       "      <th>9381</th>\n",
       "      <td>Dragonball Evolution</td>\n",
       "      <td>On his 18th birthday, Goku receives a mystical...</td>\n",
       "      <td>[28, 12, 14, 878, 53]</td>\n",
       "    </tr>\n",
       "    <tr>\n",
       "      <th>9382</th>\n",
       "      <td>Birdemic: Shock and Terror</td>\n",
       "      <td>A platoon of eagles and vultures attacks the r...</td>\n",
       "      <td>[10749, 27, 53]</td>\n",
       "    </tr>\n",
       "  </tbody>\n",
       "</table>\n",
       "<p>9383 rows × 3 columns</p>\n",
       "</div>"
      ],
      "text/plain": [
       "                           title  \\\n",
       "0       The Shawshank Redemption   \n",
       "1                  The Godfather   \n",
       "2          The Godfather Part II   \n",
       "3               Schindler's List   \n",
       "4                   12 Angry Men   \n",
       "...                          ...   \n",
       "9378           Alone in the Dark   \n",
       "9379              Disaster Movie   \n",
       "9380           House of the Dead   \n",
       "9381        Dragonball Evolution   \n",
       "9382  Birdemic: Shock and Terror   \n",
       "\n",
       "                                               overview              genre_ids  \n",
       "0     Imprisoned in the 1940s for the double murder ...               [18, 80]  \n",
       "1     Spanning the years 1945 to 1955, a chronicle o...               [18, 80]  \n",
       "2     In the continuing saga of the Corleone crime f...               [18, 80]  \n",
       "3     The true story of how businessman Oskar Schind...        [18, 36, 10752]  \n",
       "4     The defense and the prosecution have rested an...                   [18]  \n",
       "...                                                 ...                    ...  \n",
       "9378  Edward Carnby is a private investigator specia...           [28, 14, 27]  \n",
       "9379  The filmmaking team behind the hits \"Scary Mov...              [35, 878]  \n",
       "9380  Set on an island off the coast, a techno rave ...           [27, 28, 53]  \n",
       "9381  On his 18th birthday, Goku receives a mystical...  [28, 12, 14, 878, 53]  \n",
       "9382  A platoon of eagles and vultures attacks the r...        [10749, 27, 53]  \n",
       "\n",
       "[9383 rows x 3 columns]"
      ]
     },
     "execution_count": 23,
     "metadata": {},
     "output_type": "execute_result"
    }
   ],
   "source": [
    "df"
   ]
  },
  {
   "cell_type": "code",
   "execution_count": 48,
   "metadata": {},
   "outputs": [],
   "source": [
    "df.to_csv('movies.csv',index=False)"
   ]
  },
  {
   "cell_type": "code",
   "execution_count": 11,
   "metadata": {},
   "outputs": [],
   "source": [
    "# convert in lower case\n",
    "df['overview'] = df['overview'].str.lower()"
   ]
  },
  {
   "cell_type": "code",
   "execution_count": 14,
   "metadata": {},
   "outputs": [],
   "source": [
    "# remove puntuations\n",
    "import string\n",
    "exclude = string.punctuation\n",
    "def remove_punt(text):\n",
    "    return text.translate(str.maketrans('','',exclude))"
   ]
  },
  {
   "cell_type": "code",
   "execution_count": 20,
   "metadata": {},
   "outputs": [
    {
     "data": {
      "text/plain": [
       "1"
      ]
     },
     "execution_count": 20,
     "metadata": {},
     "output_type": "execute_result"
    }
   ],
   "source": [
    "df['overview'].isna().sum()"
   ]
  },
  {
   "cell_type": "code",
   "execution_count": 21,
   "metadata": {},
   "outputs": [],
   "source": [
    "df.dropna(inplace=True)"
   ]
  },
  {
   "cell_type": "code",
   "execution_count": 23,
   "metadata": {},
   "outputs": [],
   "source": [
    "df['overview'] = df['overview'].apply(remove_punt)"
   ]
  },
  {
   "cell_type": "code",
   "execution_count": 28,
   "metadata": {},
   "outputs": [],
   "source": [
    "# speling check\n",
    "from textblob import TextBlob\n",
    "\n",
    "def spell_correct(sentence):\n",
    "    text_blb = TextBlob(sentence)\n",
    "    return text_blb.correct().string\n",
    "\n",
    "df['overview'] = df['overview'].apply(spell_correct)"
   ]
  },
  {
   "cell_type": "code",
   "execution_count": null,
   "metadata": {},
   "outputs": [],
   "source": [
    "# remove stopwords\n",
    "from nltk.corpus import stopwords\n",
    "\n",
    "def remove_stopwords(sent):\n",
    "    new_sent = []\n",
    "    for word in sent.split():\n",
    "        if word in stopwords.words('english'):\n",
    "            new_sent.append('')\n",
    "        else:\n",
    "            new_sent.append(word)\n",
    "    x = new_sent[:]\n",
    "    new_sent.clear()\n",
    "    return \" \".join(x)"
   ]
  },
  {
   "cell_type": "code",
   "execution_count": null,
   "metadata": {},
   "outputs": [],
   "source": [
    "# tokenization\n",
    "import spacy \n",
    "spacy.cli.download(\"en_core_web_sm\")\n",
    "nlp = spacy.load('en_core_web_sm')"
   ]
  },
  {
   "cell_type": "code",
   "execution_count": null,
   "metadata": {},
   "outputs": [],
   "source": []
  },
  {
   "cell_type": "code",
   "execution_count": null,
   "metadata": {},
   "outputs": [],
   "source": []
  },
  {
   "cell_type": "code",
   "execution_count": null,
   "metadata": {},
   "outputs": [],
   "source": []
  }
 ],
 "metadata": {
  "kernelspec": {
   "display_name": "Python 3",
   "language": "python",
   "name": "python3"
  },
  "language_info": {
   "codemirror_mode": {
    "name": "ipython",
    "version": 3
   },
   "file_extension": ".py",
   "mimetype": "text/x-python",
   "name": "python",
   "nbconvert_exporter": "python",
   "pygments_lexer": "ipython3",
   "version": "3.12.1"
  }
 },
 "nbformat": 4,
 "nbformat_minor": 2
}
